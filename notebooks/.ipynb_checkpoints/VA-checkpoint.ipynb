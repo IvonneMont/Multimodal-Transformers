{
 "cells": [
  {
   "cell_type": "code",
   "execution_count": 1,
   "metadata": {},
   "outputs": [],
   "source": [
    "import torch\n",
    "import torch.nn as nn"
   ]
  },
  {
   "cell_type": "code",
   "execution_count": 2,
   "metadata": {},
   "outputs": [],
   "source": [
    "def model_eval(i_epoch, data, model, args, criterion, store_preds=False):\n",
    "    with torch.no_grad():\n",
    "        losses, preds, tgts = [], [], []\n",
    "        for batch in data:\n",
    "            loss, out, tgt = model_forward(i_epoch, model, args, criterion, batch, \"eval\")\n",
    "            losses.append(loss.item())\n",
    "\n",
    "            if args.task_type == \"multilabel\":\n",
    "                pred = torch.sigmoid(out).cpu().detach().numpy() > 0.5\n",
    "            else:\n",
    "                pred = torch.nn.functional.softmax(out, dim=1).argmax(dim=1).cpu().detach().numpy()\n",
    "\n",
    "            preds.append(pred)\n",
    "            tgt = tgt.cpu().detach().numpy()\n",
    "            tgts.append(tgt)\n",
    "\n",
    "    metrics = {\"loss\": np.mean(losses)}\n",
    "    if args.task_type == \"multilabel\":\n",
    "        tgts = np.vstack(tgts)\n",
    "        preds = np.vstack(preds)\n",
    "        metrics[\"macro_f1\"] = f1_score(tgts, preds, average=\"macro\")\n",
    "        metrics[\"micro_f1\"] = f1_score(tgts, preds, average=\"micro\")\n",
    "    else:\n",
    "        tgts = [l for sl in tgts for l in sl]\n",
    "        preds = [l for sl in preds for l in sl]\n",
    "        metrics[\"acc\"] = accuracy_score(tgts, preds)\n",
    "\n",
    "    if store_preds:\n",
    "        store_preds_to_disk(tgts, preds, args)\n",
    "\n",
    "    return metrics"
   ]
  },
  {
   "cell_type": "code",
   "execution_count": null,
   "metadata": {},
   "outputs": [],
   "source": [
    "test_loader = get_data_loaders(args)"
   ]
  }
 ],
 "metadata": {
  "kernelspec": {
   "display_name": "p38C",
   "language": "python",
   "name": "p38c"
  },
  "language_info": {
   "codemirror_mode": {
    "name": "ipython",
    "version": 3
   },
   "file_extension": ".py",
   "mimetype": "text/x-python",
   "name": "python",
   "nbconvert_exporter": "python",
   "pygments_lexer": "ipython3",
   "version": "3.7.6"
  }
 },
 "nbformat": 4,
 "nbformat_minor": 4
}
