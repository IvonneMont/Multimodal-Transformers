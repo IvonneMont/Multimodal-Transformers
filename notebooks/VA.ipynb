{
 "cells": [
  {
   "cell_type": "code",
   "execution_count": 1,
   "metadata": {},
   "outputs": [],
   "source": [
    "from sklearn.metrics import classification_report"
   ]
  },
  {
   "cell_type": "code",
   "execution_count": 2,
   "metadata": {},
   "outputs": [],
   "source": [
    "from numpy import loadtxt"
   ]
  },
  {
   "cell_type": "code",
   "execution_count": 3,
   "metadata": {},
   "outputs": [
    {
     "name": "stdout",
     "output_type": "stream",
     "text": [
      "              precision    recall  f1-score   support\n",
      "\n",
      "     Mystery       0.52      0.55      0.53       109\n",
      "    Thriller       0.59      0.82      0.69       257\n",
      "      Comedy       0.72      0.83      0.77       391\n",
      "      Action       0.63      0.75      0.68       216\n",
      "       Crime       0.60      0.81      0.69       186\n",
      "       Drama       0.74      0.89      0.81       523\n",
      "     Fantasy       0.69      0.76      0.72       168\n",
      "      Family       0.72      0.74      0.73       107\n",
      "      Horror       0.62      0.94      0.75       107\n",
      "   Biography       0.56      0.58      0.57        60\n",
      "     Romance       0.56      0.72      0.63       215\n",
      "      Sci-fi       0.80      0.81      0.81       131\n",
      "   Animation       0.58      0.76      0.65        45\n",
      "\n",
      "   micro avg       0.66      0.80      0.72      2515\n",
      "   macro avg       0.64      0.77      0.69      2515\n",
      "weighted avg       0.66      0.80      0.72      2515\n",
      " samples avg       0.68      0.82      0.71      2515\n",
      "\n"
     ]
    }
   ],
   "source": [
    "y_pred = loadtxt(\"test_labels_pred.txt\", comments=\"#\", delimiter=\" \", unpack=False)\n",
    "y_true =loadtxt(\"test_labels_gold.txt\", comments=\"#\", delimiter=\" \", unpack=False)\n",
    "with open(\"test_labels.txt\", \"r\") as file:\n",
    "    target_names = file.readlines()\n",
    "target_names=target_names[0].split(\" \")\n",
    "print(classification_report(y_true, y_pred, target_names=target_names))"
   ]
  },
  {
   "cell_type": "code",
   "execution_count": 4,
   "metadata": {},
   "outputs": [
    {
     "name": "stdout",
     "output_type": "stream",
     "text": [
      "              precision    recall  f1-score   support\n",
      "\n",
      "     Mystery       0.55      0.52      0.54       109\n",
      "    Thriller       0.64      0.78      0.70       257\n",
      "      Comedy       0.68      0.83      0.75       391\n",
      "      Action       0.63      0.73      0.68       216\n",
      "       Crime       0.64      0.76      0.69       186\n",
      "       Drama       0.74      0.86      0.80       523\n",
      "     Fantasy       0.66      0.79      0.72       168\n",
      "      Family       0.63      0.75      0.69       107\n",
      "      Horror       0.65      0.88      0.75       107\n",
      "   Biography       0.59      0.55      0.57        60\n",
      "     Romance       0.59      0.68      0.63       215\n",
      "      Sci-fi       0.79      0.82      0.81       131\n",
      "   Animation       0.63      0.80      0.71        45\n",
      "\n",
      "   micro avg       0.67      0.78      0.72      2515\n",
      "   macro avg       0.65      0.75      0.69      2515\n",
      "weighted avg       0.67      0.78      0.72      2515\n",
      " samples avg       0.69      0.80      0.71      2515\n",
      "\n"
     ]
    }
   ],
   "source": [
    "y_pred = loadtxt(\"checkpoints/mmbt_mo_uda2_1/test_labels_pred.txt\", comments=\"#\", delimiter=\" \", unpack=False)\n",
    "y_true =loadtxt(\"checkpoints/mmbt_mo_uda2_1/test_labels_gold.txt\", comments=\"#\", delimiter=\" \", unpack=False)\n",
    "with open(\"checkpoints/mmbt_mo_uda2_1/test_labels.txt\", \"r\") as file:\n",
    "    target_names = file.readlines()\n",
    "target_names=target_names[0].split(\" \")\n",
    "print(classification_report(y_true, y_pred, target_names=target_names))"
   ]
  },
  {
   "cell_type": "code",
   "execution_count": 11,
   "metadata": {},
   "outputs": [
    {
     "name": "stdout",
     "output_type": "stream",
     "text": [
      "              precision    recall  f1-score   support\n",
      "\n",
      "     Mystery       0.52      0.55      0.53       109\n",
      "    Thriller       0.59      0.82      0.69       257\n",
      "      Comedy       0.72      0.83      0.77       391\n",
      "      Action       0.63      0.75      0.68       216\n",
      "       Crime       0.60      0.81      0.69       186\n",
      "       Drama       0.74      0.89      0.81       523\n",
      "     Fantasy       0.69      0.76      0.72       168\n",
      "      Family       0.72      0.74      0.73       107\n",
      "      Horror       0.62      0.94      0.75       107\n",
      "   Biography       0.56      0.58      0.57        60\n",
      "     Romance       0.56      0.72      0.63       215\n",
      "      Sci-fi       0.80      0.81      0.81       131\n",
      "   Animation       0.58      0.76      0.65        45\n",
      "\n",
      "   micro avg       0.66      0.80      0.72      2515\n",
      "   macro avg       0.64      0.77      0.69      2515\n",
      "weighted avg       0.66      0.80      0.72      2515\n",
      " samples avg       0.68      0.82      0.71      2515\n",
      "               precision    recall  f1-score   support\n",
      "\n",
      "     Mystery       0.59      0.53      0.56       109\n",
      "    Thriller       0.59      0.83      0.69       257\n",
      "      Comedy       0.78      0.76      0.77       391\n",
      "      Action       0.65      0.74      0.69       216\n",
      "       Crime       0.65      0.72      0.68       186\n",
      "       Drama       0.72      0.85      0.78       523\n",
      "     Fantasy       0.69      0.73      0.71       168\n",
      "      Family       0.69      0.74      0.71       107\n",
      "      Horror       0.64      0.89      0.75       107\n",
      "   Biography       0.52      0.58      0.55        60\n",
      "     Romance       0.63      0.61      0.62       215\n",
      "      Sci-fi       0.79      0.82      0.80       131\n",
      "   Animation       0.59      0.71      0.65        45\n",
      "\n",
      "   micro avg       0.68      0.76      0.72      2515\n",
      "   macro avg       0.66      0.73      0.69      2515\n",
      "weighted avg       0.68      0.76      0.72      2515\n",
      " samples avg       0.71      0.78      0.71      2515\n",
      "\n"
     ]
    }
   ],
   "source": [
    "y_pred2 = loadtxt(\"test_labels_pred2.txt\", comments=\"#\", delimiter=\" \", unpack=False)\n",
    "y_true2 =loadtxt(\"test_labels_gold2.txt\", comments=\"#\", delimiter=\" \", unpack=False)\n",
    "with open(\"test_labels2.txt\", \"r\") as file:\n",
    "    target_names = file.readlines()\n",
    "target_names=target_names[0].split(\" \")\n",
    "print(classification_report(y_true, y_pred, target_names=target_names),classification_report(y_true2, y_pred2, target_names=target_names))"
   ]
  },
  {
   "cell_type": "code",
   "execution_count": null,
   "metadata": {},
   "outputs": [],
   "source": []
  }
 ],
 "metadata": {
  "kernelspec": {
   "display_name": "p38C",
   "language": "python",
   "name": "p38c"
  },
  "language_info": {
   "codemirror_mode": {
    "name": "ipython",
    "version": 3
   },
   "file_extension": ".py",
   "mimetype": "text/x-python",
   "name": "python",
   "nbconvert_exporter": "python",
   "pygments_lexer": "ipython3",
   "version": "3.7.6"
  }
 },
 "nbformat": 4,
 "nbformat_minor": 4
}
